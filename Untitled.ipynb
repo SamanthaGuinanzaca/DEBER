{
 "cells": [
  {
   "cell_type": "markdown",
   "id": "83906d9a",
   "metadata": {},
   "source": [
    "## <center><h1 style=\"color:red\">Map of Science</h1></center> \n",
    "### Solución del deber\n",
    "#### Nombre: Samantha Guiñanzaca\n",
    "#### Bioinformatica \n",
    "#### Grupo 1 \n",
    "##### 1. Basado en las sesiones de Visualización de datos y Expresiones resulares. Realice una adaptación de la solución del MAP OF SCIENCE. "
   ]
  },
  {
   "cell_type": "code",
   "execution_count": null,
   "id": "0f0629be",
   "metadata": {},
   "outputs": [],
   "source": []
  }
 ],
 "metadata": {
  "kernelspec": {
   "display_name": "Python 3 (ipykernel)",
   "language": "python",
   "name": "python3"
  },
  "language_info": {
   "codemirror_mode": {
    "name": "ipython",
    "version": 3
   },
   "file_extension": ".py",
   "mimetype": "text/x-python",
   "name": "python",
   "nbconvert_exporter": "python",
   "pygments_lexer": "ipython3",
   "version": "3.9.7"
  }
 },
 "nbformat": 4,
 "nbformat_minor": 5
}
